{
 "cells": [
  {
   "cell_type": "code",
   "execution_count": 3,
   "id": "7b67f3b6-68d8-486e-a6ba-16628482ac42",
   "metadata": {},
   "outputs": [
    {
     "name": "stdout",
     "output_type": "stream",
     "text": [
      "b'bar'\n"
     ]
    }
   ],
   "source": [
    "\"\"\"Basic connection example.\n",
    "\"\"\"\n",
    "\n",
    "import redis\n",
    "\n",
    "r = redis.Redis(\n",
    "    host='redis-18472.c322.us-east-1-2.ec2.redns.redis-cloud.com',\n",
    "    port=18472,\n",
    "    decode_responses=False,\n",
    "    username=\"default\",\n",
    "    password=\"kQegO5M7KHeEwyfoHhrvlkglQLhsyInh\",\n",
    ")\n",
    "\n",
    "success = r.set('foo', 'bar')\n",
    "# True\n",
    "\n",
    "result = r.get('foo')\n",
    "print(result)\n",
    "# >>> bar\n",
    "\n"
   ]
  },
  {
   "cell_type": "code",
   "execution_count": 6,
   "id": "d677f085-48ad-4ecd-aa90-37551642a8dd",
   "metadata": {},
   "outputs": [
    {
     "name": "stdout",
     "output_type": "stream",
     "text": [
      "{}\n"
     ]
    }
   ],
   "source": [
    "items = r.hgetall('academy:register')\n",
    "print(items)"
   ]
  },
  {
   "cell_type": "code",
   "execution_count": null,
   "id": "e1fb0be2",
   "metadata": {},
   "outputs": [
    {
     "data": {
      "text/plain": [
       "1"
      ]
     },
     "execution_count": 5,
     "metadata": {},
     "output_type": "execute_result"
    }
   ],
   "source": [
    "# r.hdel('academy:register', 'abc@Student')"
   ]
  }
 ],
 "metadata": {
  "kernelspec": {
   "display_name": "Python 3 (ipykernel)",
   "language": "python",
   "name": "python3"
  },
  "language_info": {
   "codemirror_mode": {
    "name": "ipython",
    "version": 3
   },
   "file_extension": ".py",
   "mimetype": "text/x-python",
   "name": "python",
   "nbconvert_exporter": "python",
   "pygments_lexer": "ipython3",
   "version": "3.12.10"
  }
 },
 "nbformat": 4,
 "nbformat_minor": 5
}
